{
 "cells": [
  {
   "cell_type": "code",
   "execution_count": 1,
   "id": "1bb15ac1",
   "metadata": {},
   "outputs": [],
   "source": [
    "import cv2\n",
    "import depthai as dai\n",
    "import numpy as np\n"
   ]
  },
  {
   "cell_type": "code",
   "execution_count": 2,
   "id": "6abfe465",
   "metadata": {},
   "outputs": [],
   "source": [
    "def stitch_2_imgs(img1, img2, feature) : \n",
    "    img1_bw = cv2.cvtColor(img1, cv2.COLOR_BGR2GRAY)\n",
    "    img2_bw = cv2.cvtColor(img2, cv2.COLOR_BGR2GRAY)\n",
    "    \n",
    "    if feature == \"SIFT\":\n",
    "        feat = cv2.SIFT_create() \n",
    "    elif feature == \"ORB\":\n",
    "        feat = cv2.ORB_create()\n",
    "    else :\n",
    "        print(\"PLease enter correct feature value.\")\n",
    "        return \n",
    "\n",
    "    kp_img1, desc_img1 = feat.detectAndCompute(img1_bw, None) \n",
    "    kp_img2, desc_img2 = feat.detectAndCompute(img2_bw, None) \n",
    "\n",
    "    bf = cv2.BFMatcher()\n",
    "    matches = bf.knnMatch(desc_img2, desc_img1, k=2)\n",
    "\n",
    "    good_points = []\n",
    "    for m, n in matches: \n",
    "        if(m.distance < 0.6*n.distance): \n",
    "            good_points.append(m) \n",
    "\n",
    "    query_pts = np.float32([kp_img2[m.queryIdx] \n",
    "                    .pt for m in good_points]).reshape(-1, 1, 2) \n",
    "\n",
    "    train_pts = np.float32([kp_img1[m.trainIdx] \n",
    "                    .pt for m in good_points]).reshape(-1, 1, 2) \n",
    "\n",
    "    matrix, mask = cv2.findHomography(query_pts, train_pts, cv2.RANSAC, 5.0) \n",
    "\n",
    "    dst = cv2.warpPerspective(img2, matrix, ((img1.shape[1] + img2.shape[1]), img2.shape[0])) \n",
    "\n",
    "    dst[0:img1.shape[0], 0:img1.shape[1]] = img1\n",
    "\n",
    "    return dst\n"
   ]
  },
  {
   "cell_type": "code",
   "execution_count": 35,
   "id": "b6ab05d8",
   "metadata": {},
   "outputs": [
    {
     "data": {
      "text/plain": [
       "True"
      ]
     },
     "execution_count": 35,
     "metadata": {},
     "output_type": "execute_result"
    }
   ],
   "source": [
    "img1 = cv2.imread('gsu buildings/Deck1.jpeg')\n",
    "img2 = cv2.imread('gsu buildings/Deck2.jpeg')\n",
    "img3 = cv2.imread('gsu buildings/Deck3.jpeg')\n",
    "\n",
    "img2_3 = stitch_2_imgs(img2, img3, \"SIFT\")\n",
    "panorm = stitch_2_imgs(img1, img2_3, \"SIFT\")\n",
    "cv2.imwrite(f\"gsu buildings/Deck_stiched.jpeg\", panorm)"
   ]
  },
  {
   "cell_type": "code",
   "execution_count": 36,
   "id": "44124928",
   "metadata": {},
   "outputs": [
    {
     "data": {
      "text/plain": [
       "True"
      ]
     },
     "execution_count": 36,
     "metadata": {},
     "output_type": "execute_result"
    }
   ],
   "source": [
    "img1 = cv2.imread('gsu buildings/Library1.jpeg')\n",
    "img2 = cv2.imread('gsu buildings/Library2.jpeg')\n",
    "img3 = cv2.imread('gsu buildings/Library3.jpeg')\n",
    "\n",
    "img2_3 = stitch_2_imgs(img2, img3, \"SIFT\")\n",
    "panorm = stitch_2_imgs(img1, img2_3, \"SIFT\")\n",
    "cv2.imwrite(f\"gsu buildings/Library_stiched.jpeg\", panorm)"
   ]
  },
  {
   "cell_type": "code",
   "execution_count": 29,
   "id": "7c4738ff",
   "metadata": {},
   "outputs": [],
   "source": [
    "img1 = cv2.imread('gsu buildings/student1.jpg')\n",
    "img2 = cv2.imread('gsu buildings/student2.jpg')\n",
    "img3 = cv2.imread('gsu buildings/student3.jpg')\n",
    "\n",
    "mg2_3 = stitch_2_imgs(img2, img3, \"SIFT\")\n",
    "panorm = stitch_2_imgs(img1, img2_3, \"SIFT\")\n",
    "cv2.imwrite(f\"gsu buildings/student_stiched.jpg\", panorm)\n"
   ]
  },
  {
   "cell_type": "code",
   "execution_count": 31,
   "id": "a10a6193",
   "metadata": {},
   "outputs": [],
   "source": [
    "img1 = cv2.imread('gsu buildings/east1.jpg')\n",
    "img2 = cv2.imread('gsu buildings/east2.jpg')\n",
    "img3 = cv2.imread('gsu buildings/east3.jpg')\n",
    "\n",
    "img2_3 = stitch_2_imgs(img2, img3, \"SIFT\")\n",
    "panorm = stitch_2_imgs(img1, img2_3, \"SIFT\")\n",
    "cv2.imwrite(f\"gsu buildings/east_stiched.jpg\", panorm)"
   ]
  },
  {
   "cell_type": "code",
   "execution_count": 33,
   "id": "bc97c0fd",
   "metadata": {},
   "outputs": [],
   "source": [
    "img1 = cv2.imread('gsu buildings/building1.jpeg')\n",
    "img2 = cv2.imread('gsu buildings/building2.jpg')\n",
    "img3 = cv2.imread('gsu buildings/building3.jpg')\n",
    "\n",
    "img2_3 = stitch_2_imgs(img2, img3, \"SIFT\")\n",
    "panorm = stitch_2_imgs(img1, img2_3, \"SIFT\")\n",
    "cv2.imwrite(f\"gsu buildings/building_stiched.jpg\", panorm)"
   ]
  }
 ],
 "metadata": {
  "kernelspec": {
   "display_name": "Python 3 (ipykernel)",
   "language": "python",
   "name": "python3"
  },
  "language_info": {
   "codemirror_mode": {
    "name": "ipython",
    "version": 3
   },
   "file_extension": ".py",
   "mimetype": "text/x-python",
   "name": "python",
   "nbconvert_exporter": "python",
   "pygments_lexer": "ipython3",
   "version": "3.9.12"
  }
 },
 "nbformat": 4,
 "nbformat_minor": 5
}
