{
 "cells": [
  {
   "cell_type": "code",
   "execution_count": 1,
   "id": "67ad1428",
   "metadata": {},
   "outputs": [],
   "source": [
    "import cv2\n",
    "import numpy as np"
   ]
  },
  {
   "cell_type": "code",
   "execution_count": 3,
   "id": "e86df67b",
   "metadata": {},
   "outputs": [],
   "source": [
    "img = cv2.imread('cv.png')\n",
    "img_bw = cv2.cvtColor(img, cv2.COLOR_BGR2GRAY)\n",
    "\n",
    "intergal_img = [[0 for j in range(len(img_bw[0]))] for i in range(len(img_bw))]\n",
    "\n",
    "for i in range(len(img_bw)):\n",
    "    for j in range(len(img_bw[0])):\n",
    "        intergal_img[i][j] = int(img_bw[i][j])\n",
    "\n",
    "for i in range(1, len(img_bw[0])):\n",
    "    intergal_img[0][i] += intergal_img[0][i-1] \n",
    "\n",
    "for j in range(1, len(img_bw)):\n",
    "    intergal_img[j][0] += intergal_img[j-1][0]\n",
    "    \n",
    "for i in range(1, len(img_bw)):\n",
    "    for j in range(1, len(img_bw[0])):\n",
    "        intergal_img[i][j] = intergal_img[i-1][j] + intergal_img[i][j-1] - intergal_img[i-1][j-1] + img_bw[i][j]\n",
    "        \n"
   ]
  },
  {
   "cell_type": "code",
   "execution_count": 6,
   "id": "bc3c0e42",
   "metadata": {},
   "outputs": [],
   "source": [
    "\n",
    "a = np.array(intergal_img)\n",
    "matr = np.matrix(a)\n",
    "\n",
    "with open('output matrix.txt','wb') as f:\n",
    "    for line in matr:\n",
    "        np.savetxt(f, line, fmt=\"%d\")"
   ]
  },
  {
   "cell_type": "code",
   "execution_count": null,
   "id": "ae1f969c",
   "metadata": {},
   "outputs": [],
   "source": [
    "## RECORDING FOR 10 SECONDS\n",
    "## THE FRAMES ARE BEING STORED IN DIRECTORY \"video_frames\"\n",
    "\n",
    "# Connect and start the pipeline\n",
    "with dai.Device(pipeline) as device:\n",
    "\n",
    "    # Output queue will be used to get the grayscale frames from the output defined above\n",
    "    q = device.getOutputQueue(name=\"left\", maxSize=4, blocking=False)\n",
    "\n",
    "    # Make sure the destination path is present before starting to store the examples\n",
    "    Path(f\"video_frames/\").mkdir(parents=True, exist_ok=True)\n",
    "\n",
    "    # running loop for 10 secs\n",
    "    ten_secs = time.time() + 10\n",
    "    \n",
    "    while time.time() < ten_secs:\n",
    "        # Blocking call, will wait until a new data has arrived\n",
    "        inSrc = q.get()  \n",
    "        # Data is originally represented as a flat 1D array, it needs to be converted into HxW form\n",
    "        frame = inSrc.getCvFrame()\n",
    "        # Frame is transformed and ready to be shown\n",
    "        cv2.imshow(\"left\", frame)\n",
    "        cv2.waitKey(1)\n",
    "\n",
    "        cv2.imwrite(f\"video_frames/{int(time.time() * 10000)}.png\", frame)\n",
    "\n",
    "    cv2.destroyAllWindows()            \n"
   ]
  }
 ],
 "metadata": {
  "kernelspec": {
   "display_name": "Python 3 (ipykernel)",
   "language": "python",
   "name": "python3"
  },
  "language_info": {
   "codemirror_mode": {
    "name": "ipython",
    "version": 3
   },
   "file_extension": ".py",
   "mimetype": "text/x-python",
   "name": "python",
   "nbconvert_exporter": "python",
   "pygments_lexer": "ipython3",
   "version": "3.9.12"
  }
 },
 "nbformat": 4,
 "nbformat_minor": 5
}
