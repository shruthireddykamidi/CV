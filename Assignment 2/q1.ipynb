{
 "cells": [
  {
   "cell_type": "code",
   "execution_count": 1,
   "id": "2bc5b309",
   "metadata": {},
   "outputs": [],
   "source": [
    "import cv2\n",
    "import depthai as dai\n",
    "import numpy as np\n",
    "\n",
    "import time\n",
    "from pathlib import Path\n",
    "from matplotlib import pyplot as plt\n"
   ]
  },
  {
   "cell_type": "code",
   "execution_count": 2,
   "id": "11b9a8d6",
   "metadata": {},
   "outputs": [],
   "source": [
    "pipeline = dai.Pipeline()\n",
    "\n",
    "cam_left = pipeline.createMonoCamera()\n",
    "cam_left.setBoardSocket(dai.CameraBoardSocket.LEFT)\n",
    "cam_left.setResolution(dai.MonoCameraProperties.SensorResolution.THE_480_P)\n",
    "\n",
    "xout_left = pipeline.createXLinkOut()\n",
    "xout_left.setStreamName('left')\n",
    "cam_left.out.link(xout_left.input)\n"
   ]
  },
  {
   "cell_type": "code",
   "execution_count": 4,
   "id": "4fb07bee",
   "metadata": {},
   "outputs": [],
   "source": [
    "image = cv2.imread('cv.png')\n",
    "\n",
    "cv2.imshow('Image input', image)\n",
    "cv2.waitKey(1000)\n",
    "cv2.destroyAllWindows()            \n",
    "\n",
    "bw_image = cv2.cvtColor(image, cv2.COLOR_BGR2GRAY)\n",
    "bw_image = np.float32(bw_image)\n",
    "\n",
    "dest = cv2.cornerHarris(bw_image, 2, 5, 0.07)\n",
    " \n",
    "dest = cv2.dilate(dest, None)\n",
    " \n",
    "image[dest > 0.01 * dest.max()]=[0, 0, 255]\n",
    " \n",
    "cv2.imshow('Image with Borders', image)\n",
    "cv2.waitKey(1000)\n",
    "cv2.imwrite(\"harris_corner_detection.png\", image)\n",
    "cv2.destroyAllWindows()\n"
   ]
  },
  {
   "cell_type": "code",
   "execution_count": 5,
   "id": "95091f70",
   "metadata": {},
   "outputs": [],
   "source": [
    "image = cv2.imread('cv.png')\n",
    "\n",
    "cv2.imshow('Image original', image)\n",
    "cv2.waitKey(1000)\n",
    "cv2.destroyAllWindows()\n",
    "\n",
    "edges_img = cv2.Canny(image,100,200)\n",
    "\n",
    "cv2.imshow('Image with edges', edges_img)\n",
    "cv2.waitKey(1000)\n",
    "cv2.imwrite(\"canny_edge_detection.png\", edges_img)\n",
    "cv2.destroyAllWindows()\n"
   ]
  },
  {
   "cell_type": "code",
   "execution_count": 6,
   "id": "495d8123",
   "metadata": {},
   "outputs": [],
   "source": [
    "img1 = cv2.imread('sruthi_video/16696818566204.png')\n",
    "img1 = cv2.cvtColor(img1, cv2.COLOR_BGR2GRAY)\n",
    "\n",
    "img2 = cv2.imread('sruthi_video/16696818566549.png')\n",
    "img2 = cv2.cvtColor(img2, cv2.COLOR_BGR2GRAY)\n"
   ]
  },
  {
   "cell_type": "code",
   "execution_count": 7,
   "id": "b182278e",
   "metadata": {},
   "outputs": [],
   "source": [
    "sift = cv2.SIFT_create() \n",
    "\n",
    "kp_img1, desc_img1 = sift.detectAndCompute(img1, None) \n",
    "kp_img2, desc_img2 = sift.detectAndCompute(img2, None) \n",
    "\n",
    "bf = cv2.BFMatcher()\n",
    "matches = bf.knnMatch(desc_img1, desc_img2, k=2)\n",
    "\n",
    "good_points=[]     \n",
    "for m, n in matches: \n",
    "    if(m.distance < 0.6*n.distance): \n",
    "        good_points.append(m) \n"
   ]
  },
  {
   "cell_type": "code",
   "execution_count": 8,
   "id": "c93d7cb9",
   "metadata": {},
   "outputs": [],
   "source": [
    "query_pts = np.float32([kp_img1[m.queryIdx] \n",
    "                .pt for m in good_points]).reshape(-1, 1, 2) \n",
    " \n",
    "train_pts = np.float32([kp_img2[m.trainIdx] \n",
    "                .pt for m in good_points]).reshape(-1, 1, 2) \n",
    " \n",
    "matrix, mask = cv2.findHomography(query_pts, train_pts, cv2.RANSAC, 5.0) \n",
    " \n",
    "matches_mask = mask.ravel().tolist() \n",
    "\n",
    "h,w = img1.shape\n",
    " \n",
    "pts = np.float32([ [0,0],[0,h-1],[w-1,h-1],[w-1,0] ]).reshape(-1,1,2)\n",
    " \n",
    "dst = cv2.perspectiveTransform(pts, matrix)\n",
    " \n",
    "homography = cv2.polylines(img2, [np.int32(dst)], True, (255, 0, 0), 3) \n",
    " \n",
    "cv2.imshow(\"Homography\", homography) \n",
    "cv2.imshow(\"Img\", img1) \n",
    "cv2.waitKey(1000)\n",
    "cv2.destroyAllWindows()\n"
   ]
  },
  {
   "cell_type": "code",
   "execution_count": 9,
   "id": "b89a6b5b",
   "metadata": {},
   "outputs": [
    {
     "data": {
      "text/plain": [
       "array([[ 1.00446597e+00,  1.19792770e-03, -3.42232934e+00],\n",
       "       [ 4.63527446e-05,  1.00319255e+00, -7.69090901e-01],\n",
       "       [ 4.14495514e-06,  1.07029465e-06,  1.00000000e+00]])"
      ]
     },
     "execution_count": 9,
     "metadata": {},
     "output_type": "execute_result"
    }
   ],
   "source": [
    "matrix\n"
   ]
  },
  {
   "cell_type": "code",
   "execution_count": 10,
   "id": "498c6869",
   "metadata": {},
   "outputs": [],
   "source": [
    "img3 = cv2.drawMatches(img1, kp_img1, img2, kp_img2, good_points, None, flags=cv2.DrawMatchesFlags_NOT_DRAW_SINGLE_POINTS)\n",
    "cv2.imshow(\"lines\", img3)\n",
    "cv2.waitKey(1000)\n",
    "cv2.imwrite(\"homography.png\", img3)\n",
    "cv2.destroyAllWindows()\n"
   ]
  }
 ],
 "metadata": {
  "kernelspec": {
   "display_name": "Python 3 (ipykernel)",
   "language": "python",
   "name": "python3"
  },
  "language_info": {
   "codemirror_mode": {
    "name": "ipython",
    "version": 3
   },
   "file_extension": ".py",
   "mimetype": "text/x-python",
   "name": "python",
   "nbconvert_exporter": "python",
   "pygments_lexer": "ipython3",
   "version": "3.9.12"
  }
 },
 "nbformat": 4,
 "nbformat_minor": 5
}
