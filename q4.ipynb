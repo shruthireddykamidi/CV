{
 "cells": [
  {
   "cell_type": "code",
   "execution_count": 2,
   "id": "c0563a7d",
   "metadata": {},
   "outputs": [],
   "source": [
    "import cv2\n",
    "import depthai as dai\n",
    "import numpy as np\n"
   ]
  },
  {
   "cell_type": "code",
   "execution_count": 3,
   "id": "c83fbb58",
   "metadata": {},
   "outputs": [],
   "source": [
    "img1 = cv2.imread('sruthi_video/16696818566204.png')\n",
    "img2 = cv2.imread('sruthi_video/16696818566549.png')\n"
   ]
  },
  {
   "cell_type": "code",
   "execution_count": 5,
   "id": "b04811fa",
   "metadata": {},
   "outputs": [],
   "source": [
    "def stitch_2_imgs(img1, img2, feature) : \n",
    "    img1_bw = cv2.cvtColor(img1, cv2.COLOR_BGR2GRAY)\n",
    "    img2_bw = cv2.cvtColor(img2, cv2.COLOR_BGR2GRAY)\n",
    "    \n",
    "    if feature == \"SIFT\":\n",
    "        feat = cv2.SIFT_create() \n",
    "    elif feature == \"ORB\":\n",
    "        feat = cv2.ORB_create()\n",
    "    else :\n",
    "        print(\"PLease enter correct feature value.\")\n",
    "        return \n",
    "\n",
    "    kp_img1, desc_img1 = feat.detectAndCompute(img1_bw, None) \n",
    "    kp_img2, desc_img2 = feat.detectAndCompute(img2_bw, None) \n",
    "\n",
    "    bf = cv2.BFMatcher()\n",
    "    matches = bf.knnMatch(desc_img2, desc_img1, k=2)\n",
    "\n",
    "    good_points = []\n",
    "    for m, n in matches: \n",
    "        if(m.distance < 0.6*n.distance): \n",
    "            good_points.append(m) \n",
    "\n",
    "    query_pts = np.float32([kp_img2[m.queryIdx] \n",
    "                    .pt for m in good_points]).reshape(-1, 1, 2) \n",
    "\n",
    "    train_pts = np.float32([kp_img1[m.trainIdx] \n",
    "                    .pt for m in good_points]).reshape(-1, 1, 2) \n",
    "\n",
    "    matrix, mask = cv2.findHomography(query_pts, train_pts, cv2.RANSAC, 5.0) \n",
    "\n",
    "    dst = cv2.warpPerspective(img2, matrix, ((img1.shape[1] + img2.shape[1]), img2.shape[0])) \n",
    "\n",
    "    dst[0:img1.shape[0], 0:img1.shape[1]] = img1\n",
    "\n",
    "    return dst"
   ]
  },
  {
   "cell_type": "code",
   "execution_count": 6,
   "id": "bf5fcef7",
   "metadata": {},
   "outputs": [
    {
     "data": {
      "text/plain": [
       "True"
      ]
     },
     "execution_count": 6,
     "metadata": {},
     "output_type": "execute_result"
    }
   ],
   "source": [
    "img1_2 = stitch_2_imgs(img1, img2, \"SIFT\")\n",
    "\n",
    "cv2.imwrite(f\"q4_stiched_frames.png\", img1_2)\n"
   ]
  },
  {
   "cell_type": "code",
   "execution_count": null,
   "id": "6770f5c2",
   "metadata": {},
   "outputs": [],
   "source": []
  }
 ],
 "metadata": {
  "kernelspec": {
   "display_name": "Python 3 (ipykernel)",
   "language": "python",
   "name": "python3"
  },
  "language_info": {
   "codemirror_mode": {
    "name": "ipython",
    "version": 3
   },
   "file_extension": ".py",
   "mimetype": "text/x-python",
   "name": "python",
   "nbconvert_exporter": "python",
   "pygments_lexer": "ipython3",
   "version": "3.9.12"
  }
 },
 "nbformat": 4,
 "nbformat_minor": 5
}
